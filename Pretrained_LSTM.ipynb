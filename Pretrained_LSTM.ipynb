{
 "cells": [
  {
   "cell_type": "code",
   "execution_count": 2,
   "metadata": {},
   "outputs": [],
   "source": [
    "import pickle"
   ]
  },
  {
   "cell_type": "code",
   "execution_count": 3,
   "metadata": {},
   "outputs": [
    {
     "name": "stderr",
     "output_type": "stream",
     "text": [
      "WARNING:absl:Compiled the loaded model, but the compiled metrics have yet to be built. `model.compile_metrics` will be empty until you train or evaluate the model.\n"
     ]
    }
   ],
   "source": [
    "#Load model\n",
    "from keras.models import load_model\n",
    "model = load_model('/Users/ricardorivero/Documents/CPTS-570/Project/Flu_LSTM/RNN_H5.h5')"
   ]
  },
  {
   "cell_type": "code",
   "execution_count": 4,
   "metadata": {},
   "outputs": [],
   "source": [
    "#Utils\n",
    "import numpy as np\n",
    "\n",
    "# List of standard amino acid single-letter codes\n",
    "amino_acids = [\n",
    "    'A', 'R', 'N', 'D', 'C', 'Q', 'E', 'G', 'H', 'I',\n",
    "    'L', 'K', 'M', 'F', 'P', 'S', 'T', 'W', 'Y', 'V'\n",
    "]\n",
    "\n",
    "# Create a mapping from amino acids to integers\n",
    "aa_to_int = {aa: idx + 1 for idx, aa in enumerate(amino_acids)}  # Start indexing from 1\n",
    "int_to_aa = {idx + 1: aa for idx, aa in enumerate(amino_acids)}"
   ]
  },
  {
   "cell_type": "code",
   "execution_count": 5,
   "metadata": {},
   "outputs": [
    {
     "name": "stderr",
     "output_type": "stream",
     "text": [
      "WARNING:absl:Compiled the loaded model, but the compiled metrics have yet to be built. `model.compile_metrics` will be empty until you train or evaluate the model.\n",
      "2024-12-11 17:06:47.223420: I tensorflow/core/grappler/optimizers/custom_graph_optimizer_registry.cc:117] Plugin optimizer for device_type GPU is enabled.\n"
     ]
    },
    {
     "name": "stdout",
     "output_type": "stream",
     "text": [
      "Generated sequence of length 50 in 2.9033 seconds:\n",
      "MEKIVLLLATVSLVKSDQICIGYHANNSTEQVDTIMEKNVTVTHAQDILE\n",
      "Generated sequence of length 100 in 20.3750 seconds:\n",
      "MEKIVLLLATVSLVKSDQICIGYHANNSTEQVDTIMEKNVTVTHAQDILEKTHNGKLCDLDGVKPLILRDCSVAGWLLGNPMCDEFINVPEWSYIVEKAN\n",
      "Generated sequence of length 150 in 43.9953 seconds:\n",
      "MEKIVLLLATVSLVKSDQICIGYHANNSTEQVDTIMEKNVTVTHAQDILEKTHNGKLCDLDGVKPLILRDCSVAGWLLGNPMCDEFINVPEWSYIVEKANPANDLCYPGNFNDYEELKHLLSRINRFEKIRIIPKSYWSSHEASLGVSAA\n",
      "Generated sequence of length 200 in 73.2894 seconds:\n",
      "MEKIVLLLATVSLVKSDQICIGYHANNSTEQVDTIMEKNVTVTHAQDILEKTHNGKLCDLDGVKPLILRDCSVAGWLLGNPMCDEFINVPEWSYIVEKANPANDLCYPGSFNDYEELKHLLSRINHFEKIQIIPKSSWSDHEASSGVSSACPYLGKSSFFRNVVWLIKKNAYPTIKKSYNNTNQEDLLILWGIHHSNNEA\n",
      "Generated sequence of length 250 in 82.6282 seconds:\n",
      "MEKIVLLLATVSLVKSDQICIGYHANNSTEQVDTIMEKNVTVTHAQDILEKTHNGKLCNLDGVKPLILRDCSVAGWLLGNPMCDEFLNVPEWSYIVEKINPANDLCYPGNFNYEELKHLLSRINHFEKIQIIPKSSWSDHEASSGVSSACPYLGRSSFFRNVVWLIKKNNTYPTIKRSYNNTNQEDLLVLWGIHHPNDEAEQTRLYQNPTTYVSVGTSTLNQRLVPKIATRSKVNGQSGRIEFFWTILKP\n",
      "Generated sequence of length 300 in 100.5253 seconds:\n",
      "MEKIVLLLATVSLVKSDQICIGYHANNSTEQVDTIMEKNVTVTHAQDILEKTHNGKLCDLDGVKPLILRDCSVAGWLLGNPMCDEFINVPEWSYIVEKANPANDLCYPGNFNNYEELKHLLSRINHFEKIQIIPKSSWSDHEASSGVSSACPYQGMPSFFRNVVWLIKKNNTYPTIKRSYNNTNQEDLLILWGIHHSNNAEEQTNLYKNPTTYISVGTSTLNQRLVPKIATRSQVNGQRGRMDFIAFKPNIHPNSYNSSEELYHSISITHHPNDAEQTKLYQNPTTYISVGTSTLNQRLV\n",
      "Generated sequence of length 350 in 119.9275 seconds:\n",
      "MEKIVLLLATVSLVKSDQICIGYHANNSTEQVDTIMEKNVTVTHAQDILEKTHNGKLCNLDGVKPLILRDCSVAGWLLGNPMCDEFINVPEWSYIVEKANPANDLCYPGNFNDYEELKHLLSRINHFEKIQIIPKSSWSDHEASLGVSSACPYLGKSSFFRNVVWLIKKNSAYPTIKRSYNNTNQEDLLVLWGIHHPNDAAEQTRLYQNPTTYISVGTSTLNQRLVPKIATRSKVNGQSGRMEFFWTILKPNDAINFESNGNFIAPEYAYKIVKKGDSAIMKSELEYGNCNTKCQTPMGAINSSMPFHNIHPLTIGECPKYVKSNRLVLATGLRNAPQIEGRRRKKRGLF\n",
      "Generated sequence of length 400 in 141.9535 seconds:\n",
      "MEKIVLLLATVSLVKSDQICIGYHANNSTEQVDTIMEKNVTVTHAQDILEKTHNGKLCDLDGVKPLILRDCSVAGWLLGNPMCDEFINVPEWSYIVEKDNPVNGNGCYPGEFNDYEELKHLLSRINRFEKIQIIPKSSWSDHEASSGVSSACPYNGRSSFFRNVVWLIKKNSAYPTIKRTYNNTNQEDLLVLWGIHHPNDAAEQTKLYQNPTTYISVGTSTLNQRLVPKIATRSKVNGQSGRMDFFWTILKPNDTINFESNGNFIAPEYAYKIVKKGDSTIMKSELEYGNCNTKCQTPMGAINSSMPFHNIHPLTIGECPKYVKSNRLVLATGLRNSPQRESRRKKRGLFGAIAGFIEGGWQGMVDGWYGYHHSNEQGSGYAADKESTQKAIDGVTNKVN\n",
      "Generated sequence of length 450 in 170.9792 seconds:\n",
      "MEKIVLLLATVSLVKSDQICIGYHANNSTEQVDTIMEKNVTVTHAQDILEKTHNGKLCSLDGVKPLILRDCSVAGWLLGNPMCDEFINVPEWSYIVEENNPANDLCYPGNFNDYEELKHLLSRINHFEKIQIIPKSSWSDHEASSGVSSACPYLGKPSFFRNVVWLIKKNSTYPTIKRSYNNTNQEDLLILWGIHHSNDAAEQTRLYQNPTTYISVGTSTLNQRLVPKIATRSKVNGQSGRIDFFWTILKSNDAINFESNGNFIAPEYAYKIVKKGDSAIMKSEVEYGNCNTKCQTPIGAINSSMPFHNIHPLTIGECPKYVKSNKLVLATGLRNSPQRKRRKRRKRGLFGAIAGFIEGGWQGMVDGWYGYHHSNEQGSGYAADKESTQKAIDGVTNKVNSIIDKMNTQFEAVGREFNNLERRIENLNKKMEDGFLDVWTYNAELLVLME\n",
      "Generated sequence of length 500 in 174.8119 seconds:\n",
      "MEKIVLLLATVSLVKSDQICIGYHANNSTEQVDTIMEKNVTVTHAQDILEKTHNGKLCDLDGVKPLILRDCSVAGWLLGNPMCDEFINVPEWSYIVEKANPANDLCYPGNFNDYEELKHLLSRINHFEKIQIIPKSYWSDHEASLGVSSACPYQGRSSFFRNVVWLIKKNSTYPTIKRSYNNTNQEDLLILWGIHHSNDAAEQTKLYQNPTTYISVGTSTLNQRLVPKIATRSKVNGQSGRMEFFWTILKPNDAINFESNGNFIAPEYAYKIVKKGDSTIMKSELEYGHCNTKCQTPMGAINSSMPFNIHPLTIGECPKYVKSNRLVLATGLRNAPQREGRRKKRGLFGAIAGFIEGGWQGMVDGWYGYHHSNEQGSGYAADKESTQKAIDGVTNKVNSIIDKMNTQFEAVGREFNNLERRIENLNKKMEDGFLDVWTYNAELLVLMENERTLDFHDSNVKNLYDKVRLQLRDNAKELGNGCFEFYHKCDNECMESVRNG\n",
      "Generated sequence of length 550 in 220.2820 seconds:\n",
      "MEKIVLLLATVSLVKSDQICIGYHANNSTEQVDTIMEKNVTVTHAQDILEKTHNGKLCNLDGVKPLILRDCSVAGWLLGNPMCDEFINVPEWSYIVEKANPANDLCYPGNFNDYEELKHLLSRINRFEKIKIIPKSSWTSHEASLGVSSACPYQGGPSFFRNVVWLTKKNDAYPTIKMSYNNTNKEDLLILWGIHHSNNAEEQQNLYKNPTTYVSVGTSTLNQRLVPKIATRSQVNGQSGRIDFFWTILKPNDAIHFESNGNFIAPEYAYKIVKKGDSTIMKSGVEYGHCNTKCQTPVGAINSSMPFHNIHPLTIGECPKYVKSNKLVLATGLRNSPQRERRRKRGLFGAIAGFIEGGWQGMVDGWYGYHHSNEQGSGYAADKESTQKAIDGVTNKVNSIIDKMNTQFEAVGREFNNLERRIENLNKKMEDGFLDVWTYNAELLVLMENERTLDFHDSNVKNLYDKVRLQLRDNAKELGNGCFEFYHKCDNECMESVRNGTYDYPQYSEEARLKREEISGVKLESIGTYQILSIYSTVASSLALAIMVAG\n",
      "Runtimes for different lengths:\n",
      "Length 50: 2.9033 s\n",
      "Length 100: 20.3750 s\n",
      "Length 150: 43.9953 s\n",
      "Length 200: 73.2894 s\n",
      "Length 250: 82.6282 s\n",
      "Length 300: 100.5253 s\n",
      "Length 350: 119.9275 s\n",
      "Length 400: 141.9535 s\n",
      "Length 450: 170.9792 s\n",
      "Length 500: 174.8119 s\n",
      "Length 550: 220.2820 s\n"
     ]
    }
   ],
   "source": [
    "import numpy as np\n",
    "import time\n",
    "from tensorflow.keras.preprocessing.sequence import pad_sequences\n",
    "from tensorflow.keras.models import load_model\n",
    "import tensorflow as tf\n",
    "\n",
    "# Load the model, specifying the device\n",
    "model = load_model('/Users/ricardorivero/Documents/CPTS-570/Project/Flu_LSTM/RNN_H5.h5')\n",
    "model.compile(loss='categorical_crossentropy', optimizer='adam')\n",
    "\n",
    "def generate_sequence(seed_sequence, model, aa_to_int, int_to_aa, max_sequence_length, desired_length, temperature=1.0):\n",
    "    \"\"\"\n",
    "    Generates a protein sequence of desired length using temperature-based sampling.\n",
    "\n",
    "    Args:\n",
    "        seed_sequence: The starting amino acid sequence (string).\n",
    "        model: Trained Keras model for sequence prediction.\n",
    "        aa_to_int: Dictionary mapping amino acids to integers.\n",
    "        int_to_aa: Dictionary mapping integers to amino acids.\n",
    "        max_sequence_length: Maximum sequence length used during training.\n",
    "        desired_length: The desired length of the generated sequence.\n",
    "        temperature: Temperature parameter for controlling randomness.\n",
    "\n",
    "    Returns:\n",
    "        Generated amino acid sequence (string).\n",
    "    \"\"\"\n",
    "\n",
    "    generated_sequence = seed_sequence\n",
    "\n",
    "    while len(generated_sequence) < desired_length:\n",
    "        int_seq = [aa_to_int.get(aa, 0) for aa in generated_sequence]\n",
    "        padded_seq = pad_sequences([int_seq], maxlen=max_sequence_length, padding='pre')\n",
    "\n",
    "        # Ensure prediction is done on CPU\n",
    "        with tf.device('/cpu:0'):\n",
    "            prediction = model.predict(padded_seq, verbose=0)[0]\n",
    "\n",
    "        if temperature != 1.0:\n",
    "            # Apply temperature scaling (consider optimizing this)\n",
    "            logits = np.log(prediction + 1e-7) / temperature\n",
    "            exp_preds = np.exp(logits)\n",
    "            probs = exp_preds / np.sum(exp_preds)\n",
    "        else:\n",
    "            probs = prediction\n",
    "\n",
    "        predicted_index = np.random.choice(len(probs), p=probs)\n",
    "        predicted_aa = int_to_aa.get(predicted_index, '')\n",
    "        generated_sequence += predicted_aa\n",
    "\n",
    "    return generated_sequence\n",
    "\n",
    "# Example usage:\n",
    "seed_sequence = 'MEKIVLLLATVSLVKSDQICIGYHANNSTEQVDTIMEKNVTVTH'\n",
    "temperature = 0.8\n",
    "\n",
    "lengths = range(50, 569, 50)\n",
    "runtimes = {}\n",
    "max_sequence_length = 569\n",
    "\n",
    "for length in lengths:\n",
    "    start_time = time.time()\n",
    "    generated_seq = generate_sequence(\n",
    "        seed_sequence,\n",
    "        model,\n",
    "        aa_to_int,\n",
    "        int_to_aa,\n",
    "        max_sequence_length,\n",
    "        length,\n",
    "        temperature\n",
    "    )\n",
    "    end_time = time.time()\n",
    "    runtime = end_time - start_time\n",
    "    runtimes[length] = runtime\n",
    "    print(f\"Generated sequence of length {length} in {runtime:.4f} seconds:\\n{generated_seq}\")\n",
    "\n",
    "print(\"Runtimes for different lengths:\")\n",
    "for length, rt in runtimes.items():\n",
    "    print(f\"Length {length}: {rt:.4f} s\")"
   ]
  }
 ],
 "metadata": {
  "kernelspec": {
   "display_name": "base",
   "language": "python",
   "name": "python3"
  },
  "language_info": {
   "codemirror_mode": {
    "name": "ipython",
    "version": 3
   },
   "file_extension": ".py",
   "mimetype": "text/x-python",
   "name": "python",
   "nbconvert_exporter": "python",
   "pygments_lexer": "ipython3",
   "version": "3.11.8"
  }
 },
 "nbformat": 4,
 "nbformat_minor": 2
}
